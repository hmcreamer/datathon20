{
 "cells": [
  {
   "cell_type": "code",
   "execution_count": 2,
   "metadata": {},
   "outputs": [],
   "source": [
    "import numpy as np\n",
    "import pandas as pd\n",
    "import matplotlib.pyplot as plt"
   ]
  },
  {
   "cell_type": "code",
   "execution_count": 4,
   "metadata": {},
   "outputs": [],
   "source": [
    "astrosReg17 = pd.read_csv(\"../astrosReg17.csv\")"
   ]
  },
  {
   "cell_type": "code",
   "execution_count": 11,
   "metadata": {},
   "outputs": [
    {
     "data": {
      "text/plain": [
       "0    1581\n",
       "1     754\n",
       "2     827\n",
       "3     472\n",
       "Name: H, dtype: int64"
      ]
     },
     "execution_count": 11,
     "metadata": {},
     "output_type": "execute_result"
    }
   ],
   "source": [
    "#Home is 2nd row, away is 3rd row\n",
    "astrosReg17.head()"
   ]
  },
  {
   "cell_type": "code",
   "execution_count": 18,
   "metadata": {},
   "outputs": [],
   "source": [
    "#Runs created = obp * TB\n",
    "astrosReg17['RunsCreated'] = astrosReg17['OBP'] + (astrosReg17['H'] - astrosReg17['2B'] - astrosReg17['3B'] - astrosReg17['HR']) + (2 * astrosReg17['2B']) + (3 * astrosReg17['3B']) + (4 * astrosReg17['HR']) \n",
    "#Iso power = SLG - AVG\n",
    "astrosReg17['IsoPower'] = astrosReg17['SLG'] - astrosReg17['AVG']"
   ]
  },
  {
   "cell_type": "code",
   "execution_count": 19,
   "metadata": {},
   "outputs": [
    {
     "data": {
      "text/html": [
       "<div>\n",
       "<style scoped>\n",
       "    .dataframe tbody tr th:only-of-type {\n",
       "        vertical-align: middle;\n",
       "    }\n",
       "\n",
       "    .dataframe tbody tr th {\n",
       "        vertical-align: top;\n",
       "    }\n",
       "\n",
       "    .dataframe thead th {\n",
       "        text-align: right;\n",
       "    }\n",
       "</style>\n",
       "<table border=\"1\" class=\"dataframe\">\n",
       "  <thead>\n",
       "    <tr style=\"text-align: right;\">\n",
       "      <th></th>\n",
       "      <th>GP</th>\n",
       "      <th>W</th>\n",
       "      <th>L</th>\n",
       "      <th>AB</th>\n",
       "      <th>R</th>\n",
       "      <th>H</th>\n",
       "      <th>2B</th>\n",
       "      <th>3B</th>\n",
       "      <th>HR</th>\n",
       "      <th>RBI</th>\n",
       "      <th>AVG</th>\n",
       "      <th>OBP</th>\n",
       "      <th>SLG</th>\n",
       "      <th>OPS</th>\n",
       "      <th>RunsCreated</th>\n",
       "      <th>IsoPower</th>\n",
       "    </tr>\n",
       "  </thead>\n",
       "  <tbody>\n",
       "    <tr>\n",
       "      <td>0</td>\n",
       "      <td>162</td>\n",
       "      <td>101</td>\n",
       "      <td>61</td>\n",
       "      <td>5611</td>\n",
       "      <td>896</td>\n",
       "      <td>1581</td>\n",
       "      <td>346</td>\n",
       "      <td>20</td>\n",
       "      <td>238</td>\n",
       "      <td>854</td>\n",
       "      <td>0.282</td>\n",
       "      <td>0.346</td>\n",
       "      <td>0.478</td>\n",
       "      <td>0.823</td>\n",
       "      <td>2681.346</td>\n",
       "      <td>0.196</td>\n",
       "    </tr>\n",
       "    <tr>\n",
       "      <td>1</td>\n",
       "      <td>81</td>\n",
       "      <td>48</td>\n",
       "      <td>33</td>\n",
       "      <td>2701</td>\n",
       "      <td>395</td>\n",
       "      <td>754</td>\n",
       "      <td>165</td>\n",
       "      <td>6</td>\n",
       "      <td>115</td>\n",
       "      <td>382</td>\n",
       "      <td>0.279</td>\n",
       "      <td>0.340</td>\n",
       "      <td>0.472</td>\n",
       "      <td>0.812</td>\n",
       "      <td>1276.340</td>\n",
       "      <td>0.193</td>\n",
       "    </tr>\n",
       "    <tr>\n",
       "      <td>2</td>\n",
       "      <td>81</td>\n",
       "      <td>53</td>\n",
       "      <td>28</td>\n",
       "      <td>2910</td>\n",
       "      <td>501</td>\n",
       "      <td>827</td>\n",
       "      <td>181</td>\n",
       "      <td>14</td>\n",
       "      <td>123</td>\n",
       "      <td>472</td>\n",
       "      <td>0.284</td>\n",
       "      <td>0.351</td>\n",
       "      <td>0.483</td>\n",
       "      <td>0.834</td>\n",
       "      <td>1405.351</td>\n",
       "      <td>0.199</td>\n",
       "    </tr>\n",
       "    <tr>\n",
       "      <td>3</td>\n",
       "      <td>49</td>\n",
       "      <td>33</td>\n",
       "      <td>16</td>\n",
       "      <td>1690</td>\n",
       "      <td>299</td>\n",
       "      <td>472</td>\n",
       "      <td>97</td>\n",
       "      <td>8</td>\n",
       "      <td>78</td>\n",
       "      <td>283</td>\n",
       "      <td>0.279</td>\n",
       "      <td>0.353</td>\n",
       "      <td>0.485</td>\n",
       "      <td>0.837</td>\n",
       "      <td>819.353</td>\n",
       "      <td>0.206</td>\n",
       "    </tr>\n",
       "  </tbody>\n",
       "</table>\n",
       "</div>"
      ],
      "text/plain": [
       "    GP    W   L    AB    R     H   2B  3B   HR  RBI    AVG    OBP    SLG  \\\n",
       "0  162  101  61  5611  896  1581  346  20  238  854  0.282  0.346  0.478   \n",
       "1   81   48  33  2701  395   754  165   6  115  382  0.279  0.340  0.472   \n",
       "2   81   53  28  2910  501   827  181  14  123  472  0.284  0.351  0.483   \n",
       "3   49   33  16  1690  299   472   97   8   78  283  0.279  0.353  0.485   \n",
       "\n",
       "     OPS  RunsCreated  IsoPower  \n",
       "0  0.823     2681.346     0.196  \n",
       "1  0.812     1276.340     0.193  \n",
       "2  0.834     1405.351     0.199  \n",
       "3  0.837      819.353     0.206  "
      ]
     },
     "execution_count": 19,
     "metadata": {},
     "output_type": "execute_result"
    }
   ],
   "source": [
    "astrosReg17"
   ]
  },
  {
   "cell_type": "code",
   "execution_count": 26,
   "metadata": {},
   "outputs": [
    {
     "data": {
      "image/png": "[encoded data removed]",
      "text/plain": [
       "<Figure size 432x288 with 1 Axes>"
      ]
     },
     "metadata": {
      "needs_background": "light"
     },
     "output_type": "display_data"
    }
   ],
   "source": [
    "barWidth = 0.25\n",
    "\n",
    "bars1 = [12, 30, 1, 8, 22]\n",
    "bars2 = [28, 6, 16, 5, 10]\n",
    "bars3 = [29, 3, 24, 25, 17]\n",
    " \n",
    "# Set position of bar on X axis\n",
    "r1 = np.arange(len(bars1))\n",
    " \n",
    "# Make the plot\n",
    "plt.bar(r1, bars1, color='#7f6d5f', width=barWidth, edgecolor='white', label='var1')\n",
    "plt.bar(r2, bars2, color='#557f2d', width=barWidth, edgecolor='white', label='var2')\n",
    " \n",
    "# Add xticks on the middle of the group bars\n",
    "plt.xlabel('group', fontweight='bold')\n",
    "plt.xticks([r + barWidth for r in range(len(bars1))], ['A', 'B', 'C', 'D', 'E'])\n",
    " \n",
    "# Create legend & Show graphic\n",
    "plt.legend()\n",
    "plt.show()\n"
   ]
  },
  {
   "cell_type": "code",
   "execution_count": null,
   "metadata": {},
   "outputs": [],
   "source": []
  }
 ],
 "metadata": {
  "kernelspec": {
   "display_name": "Python 3",
   "language": "python",
   "name": "python3"
  },
  "language_info": {
   "codemirror_mode": {
    "name": "ipython",
    "version": 3
   },
   "file_extension": ".py",
   "mimetype": "text/x-python",
   "name": "python",
   "nbconvert_exporter": "python",
   "pygments_lexer": "ipython3",
   "version": "3.7.4"
  }
 },
 "nbformat": 4,
 "nbformat_minor": 2
}

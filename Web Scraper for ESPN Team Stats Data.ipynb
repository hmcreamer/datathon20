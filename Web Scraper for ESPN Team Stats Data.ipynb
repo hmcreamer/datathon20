{
 "cells": [
  {
   "cell_type": "code",
   "execution_count": 1,
   "metadata": {},
   "outputs": [],
   "source": [
    "sites_to_scrape = ['https://www.espn.com/mlb/team/splits/_/name/bos/season/2018/seasontype/3?fbclid=IwAR2NCz1J5o_klmxgJKo9kEDN06jHdy6Bv2fZGMV95mKQsM6OYCQtERLOTto', \n",
    "                  'https://www.espn.com/mlb/team/splits/_/name/bos/season/2018/seasontype/2', \n",
    "                  'https://www.espn.com/mlb/team/splits/_/name/hou/season/2017/seasontype/2',\n",
    "                  'https://www.espn.com/mlb/team/splits/_/name/hou/season/2017/seasontype/3']"
   ]
  },
  {
   "cell_type": "code",
   "execution_count": null,
   "metadata": {},
   "outputs": [],
   "source": [
    "from bs4 import BeautifulSoup\n",
    "\n",
    "count = 1\n",
    "\n",
    "for url in sites_to_scrape:\n",
    "    r = requests.get(url,\n",
    "                         cookies={'SWID': swid, 'espn_s2': espn})\n",
    "    soup = BeautifulSoup(r.content, 'html.parser')\n",
    "    table = soup.find('table', class_='Table_Stats')\n",
    "    tdf = pd.read_html(str(table), flavor='bs4')[0]\n",
    "    file_name = 'dataset' + str(count)\n",
    "    tdf.to_csv('../dataset')\n",
    "    count++"
   ]
  }
 ],
 "metadata": {
  "kernelspec": {
   "display_name": "Python 3",
   "language": "python",
   "name": "python3"
  },
  "language_info": {
   "codemirror_mode": {
    "name": "ipython",
    "version": 3
   },
   "file_extension": ".py",
   "mimetype": "text/x-python",
   "name": "python",
   "nbconvert_exporter": "python",
   "pygments_lexer": "ipython3",
   "version": "3.7.4"
  }
 },
 "nbformat": 4,
 "nbformat_minor": 2
}
